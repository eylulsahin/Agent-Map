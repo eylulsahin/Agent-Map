{
 "cells": [
  {
   "cell_type": "code",
   "execution_count": 78,
   "metadata": {},
   "outputs": [],
   "source": [
    "import pandas as pd\n",
    "import numpy as np\n",
    "import descartes\n",
    "import geopandas as gpd\n",
    "from shapely.geometry import Polygon,Point\n",
    "%matplotlib inline\n",
    "from scipy import ndimage\n",
    "import matplotlib.pyplot as plt\n",
    "from os.path import join\n",
    "import io\n",
    "from sklearn.neighbors import KernelDensity\n",
    "from sklearn.model_selection import GridSearchCV\n",
    "from sklearn.model_selection import train_test_split\n",
    "\n",
    "#read data and create dataframe\n",
    "path_prefix = '../Agent-Map'\n",
    "agent_df=pd.read_csv(join(path_prefix, \"agent.csv\"))\n",
    "building_df=pd.read_csv(join(path_prefix, \"building.csv\"))"
   ]
  },
  {
   "cell_type": "code",
   "execution_count": 79,
   "metadata": {},
   "outputs": [],
   "source": [
    "#Add geometry column containing coordinate points\n",
    "coordinates=[Point(xy)for xy in zip(building_df[\" BuildingX\"],building_df[\" BuildingY\"])]\n",
    "building_df=gpd.GeoDataFrame(building_df, geometry=coordinates)\n",
    "\n",
    "geometry=[Point(xy)for xy in zip(agent_df[\" AgentX\"],agent_df[\" AgentY\"])]\n",
    "agent_df=gpd.GeoDataFrame(agent_df, geometry=geometry)"
   ]
  },
  {
   "cell_type": "code",
   "execution_count": 80,
   "metadata": {},
   "outputs": [],
   "source": [
    "def heatmap(d, bins=(100,100), smoothing=1.3, cmap='jet'):\n",
    "    def getx(pt):\n",
    "        return pt.coords[0][0]\n",
    "\n",
    "    def gety(pt):\n",
    "        return pt.coords[0][1]\n",
    "\n",
    "    x = list(d.geometry.apply(getx))\n",
    "    y = list(d.geometry.apply(gety))\n",
    "    heatmap, xedges, yedges = np.histogram2d(y, x, bins=bins)\n",
    "    extent = [yedges[0], yedges[-1], xedges[-1], xedges[0]]\n",
    "\n",
    "    logheatmap = np.log(heatmap)\n",
    "    logheatmap[np.isneginf(logheatmap)] = 0\n",
    "    logheatmap = ndimage.filters.gaussian_filter(logheatmap, smoothing, mode='nearest')\n",
    "    \n",
    "    plt.imshow(logheatmap, cmap=cmap, extent=extent)\n",
    "    plt.colorbar()\n",
    "    plt.gca().invert_yaxis()\n",
    "    plt.show()"
   ]
  },
  {
   "cell_type": "code",
   "execution_count": 59,
   "metadata": {},
   "outputs": [
    {
     "name": "stderr",
     "output_type": "stream",
     "text": [
      "/Users/eylulsahin/opt/anaconda3/lib/python3.7/site-packages/ipykernel_launcher.py:13: RuntimeWarning: divide by zero encountered in log\n",
      "  del sys.path[0]\n"
     ]
    },
    {
     "data": {
      "image/png": "[encoded data removed]",
      "text/plain": [
       "<Figure size 432x288 with 2 Axes>"
      ]
     },
     "metadata": {
      "needs_background": "light"
     },
     "output_type": "display_data"
    }
   ],
   "source": [
    "#visualizing agent data\n",
    "heatmap(agent_df, bins=50, smoothing=1.5)"
   ]
  },
  {
   "cell_type": "code",
   "execution_count": 81,
   "metadata": {},
   "outputs": [
    {
     "data": {
      "text/html": [
       "<div>\n",
       "<style scoped>\n",
       "    .dataframe tbody tr th:only-of-type {\n",
       "        vertical-align: middle;\n",
       "    }\n",
       "\n",
       "    .dataframe tbody tr th {\n",
       "        vertical-align: top;\n",
       "    }\n",
       "\n",
       "    .dataframe thead th {\n",
       "        text-align: right;\n",
       "    }\n",
       "</style>\n",
       "<table border=\"1\" class=\"dataframe\">\n",
       "  <thead>\n",
       "    <tr style=\"text-align: right;\">\n",
       "      <th></th>\n",
       "      <th>AgentY</th>\n",
       "      <th>TimeInSeconds</th>\n",
       "    </tr>\n",
       "  </thead>\n",
       "  <tbody>\n",
       "    <tr>\n",
       "      <td>225182</td>\n",
       "      <td>-25.781</td>\n",
       "      <td>53233.3</td>\n",
       "    </tr>\n",
       "    <tr>\n",
       "      <td>308150</td>\n",
       "      <td>46.522</td>\n",
       "      <td>62659.9</td>\n",
       "    </tr>\n",
       "    <tr>\n",
       "      <td>318478</td>\n",
       "      <td>20.736</td>\n",
       "      <td>63649.9</td>\n",
       "    </tr>\n",
       "    <tr>\n",
       "      <td>403398</td>\n",
       "      <td>58.746</td>\n",
       "      <td>78454.8</td>\n",
       "    </tr>\n",
       "    <tr>\n",
       "      <td>215408</td>\n",
       "      <td>224.007</td>\n",
       "      <td>52550.5</td>\n",
       "    </tr>\n",
       "    <tr>\n",
       "      <td>...</td>\n",
       "      <td>...</td>\n",
       "      <td>...</td>\n",
       "    </tr>\n",
       "    <tr>\n",
       "      <td>312505</td>\n",
       "      <td>12.503</td>\n",
       "      <td>63175.5</td>\n",
       "    </tr>\n",
       "    <tr>\n",
       "      <td>182270</td>\n",
       "      <td>15.349</td>\n",
       "      <td>49424.0</td>\n",
       "    </tr>\n",
       "    <tr>\n",
       "      <td>201260</td>\n",
       "      <td>1.252</td>\n",
       "      <td>51549.2</td>\n",
       "    </tr>\n",
       "    <tr>\n",
       "      <td>115302</td>\n",
       "      <td>104.602</td>\n",
       "      <td>45143.8</td>\n",
       "    </tr>\n",
       "    <tr>\n",
       "      <td>158792</td>\n",
       "      <td>-86.773</td>\n",
       "      <td>48311.0</td>\n",
       "    </tr>\n",
       "  </tbody>\n",
       "</table>\n",
       "<p>331768 rows × 2 columns</p>\n",
       "</div>"
      ],
      "text/plain": [
       "         AgentY   TimeInSeconds\n",
       "225182  -25.781         53233.3\n",
       "308150   46.522         62659.9\n",
       "318478   20.736         63649.9\n",
       "403398   58.746         78454.8\n",
       "215408  224.007         52550.5\n",
       "...         ...             ...\n",
       "312505   12.503         63175.5\n",
       "182270   15.349         49424.0\n",
       "201260    1.252         51549.2\n",
       "115302  104.602         45143.8\n",
       "158792  -86.773         48311.0\n",
       "\n",
       "[331768 rows x 2 columns]"
      ]
     },
     "execution_count": 81,
     "metadata": {},
     "output_type": "execute_result"
    }
   ],
   "source": [
    "agent_df=agent_df.drop(columns=[\"AgentID\", \"geometry\", \" AgentX\"])\n",
    "x_train, x_test = train_test_split(agent_df, test_size=0.2)\n",
    "x_train"
   ]
  },
  {
   "cell_type": "code",
   "execution_count": 82,
   "metadata": {},
   "outputs": [],
   "source": [
    "model = KernelDensity()\n",
    "model.fit(x_train)\n",
    "log_dens = model.score_samples(x_test)"
   ]
  },
  {
   "cell_type": "code",
   "execution_count": 83,
   "metadata": {},
   "outputs": [
    {
     "data": {
      "image/png": "[encoded data removed]",
      "text/plain": [
       "<Figure size 432x288 with 1 Axes>"
      ]
     },
     "metadata": {
      "needs_background": "light"
     },
     "output_type": "display_data"
    }
   ],
   "source": [
    "plt.fill(x_test, np.exp(log_dens), c='cyan')\n",
    "plt.show()"
   ]
  },
  {
   "cell_type": "code",
   "execution_count": null,
   "metadata": {},
   "outputs": [],
   "source": []
  }
 ],
 "metadata": {
  "kernelspec": {
   "display_name": "Python 3",
   "language": "python",
   "name": "python3"
  },
  "language_info": {
   "codemirror_mode": {
    "name": "ipython",
    "version": 3
   },
   "file_extension": ".py",
   "mimetype": "text/x-python",
   "name": "python",
   "nbconvert_exporter": "python",
   "pygments_lexer": "ipython3",
   "version": "3.7.4"
  }
 },
 "nbformat": 4,
 "nbformat_minor": 2
}
