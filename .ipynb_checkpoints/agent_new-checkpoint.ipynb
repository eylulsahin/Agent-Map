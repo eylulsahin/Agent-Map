{
 "cells": [
  {
   "cell_type": "code",
   "execution_count": 26,
   "metadata": {
    "colab": {
     "base_uri": "https://localhost:8080/"
    },
    "id": "XQzheq56qgqx",
    "outputId": "96cb4b4f-dcfe-41e2-ad38-d623cf8b6325"
   },
   "outputs": [],
   "source": [
    "import pandas as pd\n",
    "import numpy as np\n",
    "\n",
    "import matplotlib.pyplot as plt\n",
    "from os.path import join\n",
    "import io\n",
    "\n",
    "#from google.colab import drive\n",
    "#drive.mount(\"/content/drive\", force_remount=True)\n",
    "#path_prefix = \"/content/drive/My Drive\"\n",
    "path_prefix = '../Agent-Map'"
   ]
  },
  {
   "cell_type": "code",
   "execution_count": 27,
   "metadata": {
    "colab": {
     "base_uri": "https://localhost:8080/",
     "height": 204
    },
    "id": "WHoBAS6ZqxbL",
    "outputId": "0f25a9b8-8f55-480d-f8b7-2ea91e82ea69"
   },
   "outputs": [
    {
     "data": {
      "text/html": [
       "<div>\n",
       "<style scoped>\n",
       "    .dataframe tbody tr th:only-of-type {\n",
       "        vertical-align: middle;\n",
       "    }\n",
       "\n",
       "    .dataframe tbody tr th {\n",
       "        vertical-align: top;\n",
       "    }\n",
       "\n",
       "    .dataframe thead th {\n",
       "        text-align: right;\n",
       "    }\n",
       "</style>\n",
       "<table border=\"1\" class=\"dataframe\">\n",
       "  <thead>\n",
       "    <tr style=\"text-align: right;\">\n",
       "      <th></th>\n",
       "      <th>AgentID</th>\n",
       "      <th>AgentX</th>\n",
       "      <th>AgentY</th>\n",
       "      <th>TimeInSeconds</th>\n",
       "    </tr>\n",
       "  </thead>\n",
       "  <tbody>\n",
       "    <tr>\n",
       "      <td>0</td>\n",
       "      <td>39670</td>\n",
       "      <td>-171.891</td>\n",
       "      <td>-19.879</td>\n",
       "      <td>28903.5</td>\n",
       "    </tr>\n",
       "    <tr>\n",
       "      <td>1</td>\n",
       "      <td>39670</td>\n",
       "      <td>-163.132</td>\n",
       "      <td>-17.741</td>\n",
       "      <td>28904.9</td>\n",
       "    </tr>\n",
       "    <tr>\n",
       "      <td>2</td>\n",
       "      <td>39670</td>\n",
       "      <td>-156.743</td>\n",
       "      <td>-16.181</td>\n",
       "      <td>28906.0</td>\n",
       "    </tr>\n",
       "    <tr>\n",
       "      <td>3</td>\n",
       "      <td>39670</td>\n",
       "      <td>-156.743</td>\n",
       "      <td>-16.181</td>\n",
       "      <td>28907.2</td>\n",
       "    </tr>\n",
       "    <tr>\n",
       "      <td>4</td>\n",
       "      <td>44563</td>\n",
       "      <td>-181.220</td>\n",
       "      <td>-4.682</td>\n",
       "      <td>28938.0</td>\n",
       "    </tr>\n",
       "  </tbody>\n",
       "</table>\n",
       "</div>"
      ],
      "text/plain": [
       "   AgentID   AgentX   AgentY   TimeInSeconds\n",
       "0    39670 -171.891  -19.879         28903.5\n",
       "1    39670 -163.132  -17.741         28904.9\n",
       "2    39670 -156.743  -16.181         28906.0\n",
       "3    39670 -156.743  -16.181         28907.2\n",
       "4    44563 -181.220   -4.682         28938.0"
      ]
     },
     "execution_count": 27,
     "metadata": {},
     "output_type": "execute_result"
    }
   ],
   "source": [
    "agent_df=pd.read_csv(join(path_prefix, \"agent.csv\"))\n",
    "\n",
    "agent_df.head()"
   ]
  },
  {
   "cell_type": "code",
   "execution_count": 28,
   "metadata": {
    "colab": {
     "base_uri": "https://localhost:8080/",
     "height": 204
    },
    "id": "_eNAo6mgr2Y8",
    "outputId": "72eb9a4b-18ac-446c-fb45-1af1fad8c307"
   },
   "outputs": [
    {
     "data": {
      "text/html": [
       "<div>\n",
       "<style scoped>\n",
       "    .dataframe tbody tr th:only-of-type {\n",
       "        vertical-align: middle;\n",
       "    }\n",
       "\n",
       "    .dataframe tbody tr th {\n",
       "        vertical-align: top;\n",
       "    }\n",
       "\n",
       "    .dataframe thead th {\n",
       "        text-align: right;\n",
       "    }\n",
       "</style>\n",
       "<table border=\"1\" class=\"dataframe\">\n",
       "  <thead>\n",
       "    <tr style=\"text-align: right;\">\n",
       "      <th></th>\n",
       "      <th>BuildingID</th>\n",
       "      <th>BuildingX</th>\n",
       "      <th>BuildingY</th>\n",
       "      <th>DoorID</th>\n",
       "      <th>DoorX</th>\n",
       "      <th>DoorY</th>\n",
       "    </tr>\n",
       "  </thead>\n",
       "  <tbody>\n",
       "    <tr>\n",
       "      <td>0</td>\n",
       "      <td>Sport Center</td>\n",
       "      <td>276.55</td>\n",
       "      <td>-56.71</td>\n",
       "      <td>SGM Door 1</td>\n",
       "      <td>267.732</td>\n",
       "      <td>-64.548</td>\n",
       "    </tr>\n",
       "    <tr>\n",
       "      <td>1</td>\n",
       "      <td>FMAN</td>\n",
       "      <td>-87.30</td>\n",
       "      <td>-42.50</td>\n",
       "      <td>FMAN Door 1</td>\n",
       "      <td>-128.022</td>\n",
       "      <td>-85.397</td>\n",
       "    </tr>\n",
       "    <tr>\n",
       "      <td>2</td>\n",
       "      <td>FMAN</td>\n",
       "      <td>-87.30</td>\n",
       "      <td>-42.50</td>\n",
       "      <td>FMAN Door 2</td>\n",
       "      <td>-153.030</td>\n",
       "      <td>-14.869</td>\n",
       "    </tr>\n",
       "    <tr>\n",
       "      <td>3</td>\n",
       "      <td>FMAN</td>\n",
       "      <td>-87.30</td>\n",
       "      <td>-42.50</td>\n",
       "      <td>FMAN Door 3</td>\n",
       "      <td>-40.920</td>\n",
       "      <td>-10.438</td>\n",
       "    </tr>\n",
       "    <tr>\n",
       "      <td>4</td>\n",
       "      <td>FMAN</td>\n",
       "      <td>-87.30</td>\n",
       "      <td>-42.50</td>\n",
       "      <td>FMAN Door 4</td>\n",
       "      <td>-35.755</td>\n",
       "      <td>-26.845</td>\n",
       "    </tr>\n",
       "  </tbody>\n",
       "</table>\n",
       "</div>"
      ],
      "text/plain": [
       "     BuildingID   BuildingX   BuildingY       DoorID    DoorX   DoorY\n",
       "0  Sport Center      276.55      -56.71   SGM Door 1  267.732 -64.548\n",
       "1          FMAN      -87.30      -42.50  FMAN Door 1 -128.022 -85.397\n",
       "2          FMAN      -87.30      -42.50  FMAN Door 2 -153.030 -14.869\n",
       "3          FMAN      -87.30      -42.50  FMAN Door 3  -40.920 -10.438\n",
       "4          FMAN      -87.30      -42.50  FMAN Door 4  -35.755 -26.845"
      ]
     },
     "execution_count": 28,
     "metadata": {},
     "output_type": "execute_result"
    }
   ],
   "source": [
    "building_df=pd.read_csv(join(path_prefix, \"building.csv\"))\n",
    "building_df.head()"
   ]
  },
  {
   "cell_type": "code",
   "execution_count": 29,
   "metadata": {
    "colab": {
     "base_uri": "https://localhost:8080/"
    },
    "id": "PSchaSqXzuId",
    "outputId": "964692d1-c4b4-4636-a17c-6eaf577090b0"
   },
   "outputs": [
    {
     "data": {
      "text/plain": [
       "Index(['BuildingID', ' BuildingX', ' BuildingY', ' DoorID', ' DoorX',\n",
       "       ' DoorY'],\n",
       "      dtype='object')"
      ]
     },
     "execution_count": 29,
     "metadata": {},
     "output_type": "execute_result"
    }
   ],
   "source": [
    "building_df.columns"
   ]
  },
  {
   "cell_type": "code",
   "execution_count": 30,
   "metadata": {
    "colab": {
     "base_uri": "https://localhost:8080/"
    },
    "id": "fqFSImCTsd0t",
    "outputId": "b9cc1a65-962c-4dd0-e29a-bf3a6ab7c414"
   },
   "outputs": [
    {
     "data": {
      "text/plain": [
       "2584"
      ]
     },
     "execution_count": 30,
     "metadata": {},
     "output_type": "execute_result"
    }
   ],
   "source": [
    "array=agent_df[ \"AgentID\"].unique()\n",
    "array.size"
   ]
  },
  {
   "cell_type": "code",
   "execution_count": 31,
   "metadata": {
    "id": "LwFqdvZjwk72"
   },
   "outputs": [
    {
     "name": "stdout",
     "output_type": "stream",
     "text": [
      "   A    B        C\n",
      "0  3  efg    Rahul\n",
      "1  4  ghi  Shubham\n"
     ]
    }
   ],
   "source": [
    "df1 = {'A': [1, 2, 3, 4], \n",
    "         'B': ['abc', 'def', 'efg', 'ghi']}  \n",
    "df2 = {'A': [1, 2, 3, 4 ], \n",
    "         'B': ['Geeks', 'For', 'efg', 'ghi'], \n",
    "         'C':['Nikhil', 'Rishabh', 'Rahul', 'Shubham']}  \n",
    "           \n",
    "d1 = pd.DataFrame(df1) \n",
    "d2 = pd.DataFrame(df2)  \n",
    "  \n",
    "# Calling merge() function \n",
    "int_df = pd.merge(d1, d2, how ='inner', on =['A', 'B']) \n",
    "print(int_df) "
   ]
  },
  {
   "cell_type": "code",
   "execution_count": 32,
   "metadata": {
    "colab": {
     "base_uri": "https://localhost:8080/",
     "height": 204
    },
    "id": "6vSwa59Rzdws",
    "outputId": "c87568bb-9fd4-42d5-8030-e1e7734f3b85"
   },
   "outputs": [
    {
     "data": {
      "text/html": [
       "<div>\n",
       "<style scoped>\n",
       "    .dataframe tbody tr th:only-of-type {\n",
       "        vertical-align: middle;\n",
       "    }\n",
       "\n",
       "    .dataframe tbody tr th {\n",
       "        vertical-align: top;\n",
       "    }\n",
       "\n",
       "    .dataframe thead th {\n",
       "        text-align: right;\n",
       "    }\n",
       "</style>\n",
       "<table border=\"1\" class=\"dataframe\">\n",
       "  <thead>\n",
       "    <tr style=\"text-align: right;\">\n",
       "      <th></th>\n",
       "      <th>AgentID</th>\n",
       "      <th>DoorX</th>\n",
       "      <th>DoorY</th>\n",
       "      <th>TimeInSeconds</th>\n",
       "    </tr>\n",
       "  </thead>\n",
       "  <tbody>\n",
       "    <tr>\n",
       "      <td>0</td>\n",
       "      <td>39670</td>\n",
       "      <td>-171.891</td>\n",
       "      <td>-19.879</td>\n",
       "      <td>28903.5</td>\n",
       "    </tr>\n",
       "    <tr>\n",
       "      <td>1</td>\n",
       "      <td>39670</td>\n",
       "      <td>-163.132</td>\n",
       "      <td>-17.741</td>\n",
       "      <td>28904.9</td>\n",
       "    </tr>\n",
       "    <tr>\n",
       "      <td>2</td>\n",
       "      <td>39670</td>\n",
       "      <td>-156.743</td>\n",
       "      <td>-16.181</td>\n",
       "      <td>28906.0</td>\n",
       "    </tr>\n",
       "    <tr>\n",
       "      <td>3</td>\n",
       "      <td>39670</td>\n",
       "      <td>-156.743</td>\n",
       "      <td>-16.181</td>\n",
       "      <td>28907.2</td>\n",
       "    </tr>\n",
       "    <tr>\n",
       "      <td>4</td>\n",
       "      <td>44563</td>\n",
       "      <td>-181.220</td>\n",
       "      <td>-4.682</td>\n",
       "      <td>28938.0</td>\n",
       "    </tr>\n",
       "  </tbody>\n",
       "</table>\n",
       "</div>"
      ],
      "text/plain": [
       "   AgentID    DoorX   DoorY   TimeInSeconds\n",
       "0    39670 -171.891 -19.879         28903.5\n",
       "1    39670 -163.132 -17.741         28904.9\n",
       "2    39670 -156.743 -16.181         28906.0\n",
       "3    39670 -156.743 -16.181         28907.2\n",
       "4    44563 -181.220  -4.682         28938.0"
      ]
     },
     "execution_count": 32,
     "metadata": {},
     "output_type": "execute_result"
    }
   ],
   "source": [
    "temp_df = agent_df.rename({\" AgentX\":\" DoorX\",\" AgentY\":\" DoorY\"}, axis='columns') \n",
    "temp_df.head()\n",
    "\n",
    "##Merge için column isimlerş aynı olmalı diye burda gecici temp olarsk degistirdim"
   ]
  },
  {
   "cell_type": "code",
   "execution_count": 33,
   "metadata": {
    "colab": {
     "base_uri": "https://localhost:8080/"
    },
    "id": "WSe0G7BEyKkI",
    "outputId": "d692f0e4-9264-4f12-d525-8ccd28936ec9"
   },
   "outputs": [
    {
     "name": "stdout",
     "output_type": "stream",
     "text": [
      "     AgentID    DoorX    DoorY   TimeInSeconds BuildingID   BuildingX  \\\n",
      "0      43561 -220.663   -3.839         30734.4       Yurt      -217.5   \n",
      "1      38815 -220.663   -3.839         39186.2       Yurt      -217.5   \n",
      "2      23787 -220.663   -3.839         40240.8       Yurt      -217.5   \n",
      "3      20643 -220.663   -3.839         40661.0       Yurt      -217.5   \n",
      "4      25695 -220.663   -3.839         43633.0       Yurt      -217.5   \n",
      "..       ...      ...      ...             ...        ...         ...   \n",
      "429    51382  -79.702  230.407         55300.9       FASS       -18.2   \n",
      "430    23206  -40.920  -10.438         56210.5       FMAN       -87.3   \n",
      "431    43838 -111.990  223.143         59283.5       FENS      -156.1   \n",
      "432     7766 -128.022  -85.397         60117.9       FMAN       -87.3   \n",
      "433    43176 -122.389  131.724         75046.8       FENS      -156.1   \n",
      "\n",
      "      BuildingY       DoorID  \n",
      "0         -31.9    UC Door 3  \n",
      "1         -31.9    UC Door 3  \n",
      "2         -31.9    UC Door 3  \n",
      "3         -31.9    UC Door 3  \n",
      "4         -31.9    UC Door 3  \n",
      "..          ...          ...  \n",
      "429       219.6  FASS Door 3  \n",
      "430       -42.5  FMAN Door 3  \n",
      "431       181.0  FENS Door 8  \n",
      "432       -42.5  FMAN Door 1  \n",
      "433       181.0  FENS Door 5  \n",
      "\n",
      "[434 rows x 8 columns]\n"
     ]
    },
    {
     "data": {
      "text/plain": [
       "402"
      ]
     },
     "execution_count": 33,
     "metadata": {},
     "output_type": "execute_result"
    }
   ],
   "source": [
    "int_df = pd.merge(temp_df,building_df,how=\"inner\",on=[ \" DoorX\",\" DoorY\"])\n",
    "print (int_df)\n",
    "smt= int_df[\"AgentID\"].unique()\n",
    "smt.size"
   ]
  },
  {
   "cell_type": "code",
   "execution_count": 34,
   "metadata": {
    "colab": {
     "base_uri": "https://localhost:8080/",
     "height": 204
    },
    "id": "qYpFFAaRv32t",
    "outputId": "12e150e7-3fda-4fa9-9bd7-95081a3e7bf4"
   },
   "outputs": [
    {
     "data": {
      "text/html": [
       "<div>\n",
       "<style scoped>\n",
       "    .dataframe tbody tr th:only-of-type {\n",
       "        vertical-align: middle;\n",
       "    }\n",
       "\n",
       "    .dataframe tbody tr th {\n",
       "        vertical-align: top;\n",
       "    }\n",
       "\n",
       "    .dataframe thead th {\n",
       "        text-align: right;\n",
       "    }\n",
       "</style>\n",
       "<table border=\"1\" class=\"dataframe\">\n",
       "  <thead>\n",
       "    <tr style=\"text-align: right;\">\n",
       "      <th></th>\n",
       "      <th>AgentID</th>\n",
       "      <th>AgentX</th>\n",
       "      <th>AgentY</th>\n",
       "      <th>TimeInSeconds</th>\n",
       "    </tr>\n",
       "  </thead>\n",
       "  <tbody>\n",
       "    <tr>\n",
       "      <td>0</td>\n",
       "      <td>39670</td>\n",
       "      <td>-171.891</td>\n",
       "      <td>-19.879</td>\n",
       "      <td>28903.5</td>\n",
       "    </tr>\n",
       "    <tr>\n",
       "      <td>1</td>\n",
       "      <td>39670</td>\n",
       "      <td>-163.132</td>\n",
       "      <td>-17.741</td>\n",
       "      <td>28904.9</td>\n",
       "    </tr>\n",
       "    <tr>\n",
       "      <td>2</td>\n",
       "      <td>39670</td>\n",
       "      <td>-156.743</td>\n",
       "      <td>-16.181</td>\n",
       "      <td>28906.0</td>\n",
       "    </tr>\n",
       "    <tr>\n",
       "      <td>3</td>\n",
       "      <td>39670</td>\n",
       "      <td>-156.743</td>\n",
       "      <td>-16.181</td>\n",
       "      <td>28907.2</td>\n",
       "    </tr>\n",
       "    <tr>\n",
       "      <td>4</td>\n",
       "      <td>44563</td>\n",
       "      <td>-181.220</td>\n",
       "      <td>-4.682</td>\n",
       "      <td>28938.0</td>\n",
       "    </tr>\n",
       "  </tbody>\n",
       "</table>\n",
       "</div>"
      ],
      "text/plain": [
       "   AgentID   AgentX   AgentY   TimeInSeconds\n",
       "0    39670 -171.891  -19.879         28903.5\n",
       "1    39670 -163.132  -17.741         28904.9\n",
       "2    39670 -156.743  -16.181         28906.0\n",
       "3    39670 -156.743  -16.181         28907.2\n",
       "4    44563 -181.220   -4.682         28938.0"
      ]
     },
     "execution_count": 34,
     "metadata": {},
     "output_type": "execute_result"
    }
   ],
   "source": [
    "agent_df.head()\n"
   ]
  },
  {
   "cell_type": "code",
   "execution_count": 35,
   "metadata": {
    "id": "3WcMRaJK71eB"
   },
   "outputs": [],
   "source": [
    "def DensityMap(stations, cnt_departure, cnt_arrival):\n",
    "  Sabanci = [40.892781855938026, 29.377431512940387]\n",
    "  \n",
    "  map = folium.Map(location = Sabanci, \n",
    "                   zoom_start = 12, \n",
    "                   tiles = \"CartoDB dark_matter\")\n",
    "  \n",
    "  stations['Total Departure'] = cnt_departure\n",
    "  stations['Total Arrival'] = cnt_arrival\n",
    "  for index, row in stations.iterrows():\n",
    "      net_departure = row['Total Departure'] - row['Total Arrival']\n",
    "    \n",
    "      _radius = np.abs(net_departure) \n",
    "      if np.isnan(_radius):\n",
    "       _radius = 0\n",
    "    \n",
    "      if net_departure > 0:\n",
    "       _color= '#E80018' # target red\n",
    "      else:\n",
    "       _color= '#81D8D0' # tiffany blue\n",
    "  \n",
    "      lat, lon = row['lat'], row['lon']\n",
    "      _popup = '('+str(row['capacity'])+'/'+str(int(_radius))+') '+row['station_name']\n",
    "  \n",
    "      folium.CircleMarker(location = [lat,lon], \n",
    "                          radius = _radius, \n",
    "                          popup = _popup, \n",
    "                          color = _color, \n",
    "                          fill_opacity = 0.5).add_to(map)\n",
    "  return map"
   ]
  },
  {
   "cell_type": "code",
   "execution_count": null,
   "metadata": {
    "id": "ZEROlsyIe0tv"
   },
   "outputs": [],
   "source": []
  },
  {
   "cell_type": "code",
   "execution_count": 36,
   "metadata": {
    "colab": {
     "base_uri": "https://localhost:8080/"
    },
    "id": "f1iRJ9QtKPs7",
    "outputId": "340cc06d-5c10-4cb7-ce7a-6244d0838576"
   },
   "outputs": [
    {
     "name": "stdout",
     "output_type": "stream",
     "text": [
      "Requirement already satisfied: geopandas in /Users/eylulsahin/opt/anaconda3/lib/python3.7/site-packages (0.8.1)\n",
      "Requirement already satisfied: shapely in /Users/eylulsahin/opt/anaconda3/lib/python3.7/site-packages (from geopandas) (1.7.1)\n",
      "Requirement already satisfied: fiona in /Users/eylulsahin/opt/anaconda3/lib/python3.7/site-packages (from geopandas) (1.8.18)\n",
      "Requirement already satisfied: pandas>=0.23.0 in /Users/eylulsahin/opt/anaconda3/lib/python3.7/site-packages (from geopandas) (0.25.1)\n",
      "Requirement already satisfied: pyproj>=2.2.0 in /Users/eylulsahin/opt/anaconda3/lib/python3.7/site-packages (from geopandas) (3.0.0.post1)\n",
      "Requirement already satisfied: cligj>=0.5 in /Users/eylulsahin/opt/anaconda3/lib/python3.7/site-packages (from fiona->geopandas) (0.7.1)\n",
      "Requirement already satisfied: certifi in /Users/eylulsahin/opt/anaconda3/lib/python3.7/site-packages (from fiona->geopandas) (2019.9.11)\n",
      "Requirement already satisfied: click<8,>=4.0 in /Users/eylulsahin/opt/anaconda3/lib/python3.7/site-packages (from fiona->geopandas) (7.0)\n",
      "Requirement already satisfied: attrs>=17 in /Users/eylulsahin/opt/anaconda3/lib/python3.7/site-packages (from fiona->geopandas) (19.2.0)\n",
      "Requirement already satisfied: six>=1.7 in /Users/eylulsahin/opt/anaconda3/lib/python3.7/site-packages (from fiona->geopandas) (1.12.0)\n",
      "Requirement already satisfied: click-plugins>=1.0 in /Users/eylulsahin/opt/anaconda3/lib/python3.7/site-packages (from fiona->geopandas) (1.1.1)\n",
      "Requirement already satisfied: munch in /Users/eylulsahin/opt/anaconda3/lib/python3.7/site-packages (from fiona->geopandas) (2.5.0)\n",
      "Requirement already satisfied: numpy>=1.13.3 in /Users/eylulsahin/opt/anaconda3/lib/python3.7/site-packages (from pandas>=0.23.0->geopandas) (1.17.2)\n",
      "Requirement already satisfied: python-dateutil>=2.6.1 in /Users/eylulsahin/opt/anaconda3/lib/python3.7/site-packages (from pandas>=0.23.0->geopandas) (2.8.0)\n",
      "Requirement already satisfied: pytz>=2017.2 in /Users/eylulsahin/opt/anaconda3/lib/python3.7/site-packages (from pandas>=0.23.0->geopandas) (2019.3)\n",
      "\u001b[33mWARNING: You are using pip version 20.2.4; however, version 20.3.3 is available.\n",
      "You should consider upgrading via the '/Users/eylulsahin/opt/anaconda3/bin/python -m pip install --upgrade pip' command.\u001b[0m\n",
      "Note: you may need to restart the kernel to use updated packages.\n"
     ]
    }
   ],
   "source": [
    "pip install geopandas"
   ]
  },
  {
   "cell_type": "code",
   "execution_count": 37,
   "metadata": {
    "id": "IHSbvbeSJ6q8"
   },
   "outputs": [],
   "source": [
    "import descartes\n",
    "import geopandas as gpd\n",
    "from shapely.geometry import Polygon,Point\n",
    "%matplotlib inline\n",
    "from scipy import ndimage"
   ]
  },
  {
   "cell_type": "code",
   "execution_count": 38,
   "metadata": {
    "colab": {
     "base_uri": "https://localhost:8080/"
    },
    "id": "0CsvM-oZKcV6",
    "outputId": "a991243f-bae2-4513-dbe0-fe2a972ae6c1"
   },
   "outputs": [
    {
     "data": {
      "text/plain": [
       "[<shapely.geometry.point.Point at 0x7fd9439373d0>,\n",
       " <shapely.geometry.point.Point at 0x7fd943937050>,\n",
       " <shapely.geometry.point.Point at 0x7fd94536bfd0>]"
      ]
     },
     "execution_count": 38,
     "metadata": {},
     "output_type": "execute_result"
    }
   ],
   "source": [
    "geometry=[Point(xy)for xy in zip(building_df[\" BuildingX\"],building_df[\" BuildingY\"])]\n",
    "geometry[:3]"
   ]
  },
  {
   "cell_type": "code",
   "execution_count": 39,
   "metadata": {
    "colab": {
     "base_uri": "https://localhost:8080/",
     "height": 204
    },
    "id": "91XlxmCqLjbY",
    "outputId": "94b421a2-b4ee-48b9-9c1f-451ae1fbd4b8"
   },
   "outputs": [
    {
     "data": {
      "text/html": [
       "<div>\n",
       "<style scoped>\n",
       "    .dataframe tbody tr th:only-of-type {\n",
       "        vertical-align: middle;\n",
       "    }\n",
       "\n",
       "    .dataframe tbody tr th {\n",
       "        vertical-align: top;\n",
       "    }\n",
       "\n",
       "    .dataframe thead th {\n",
       "        text-align: right;\n",
       "    }\n",
       "</style>\n",
       "<table border=\"1\" class=\"dataframe\">\n",
       "  <thead>\n",
       "    <tr style=\"text-align: right;\">\n",
       "      <th></th>\n",
       "      <th>BuildingID</th>\n",
       "      <th>BuildingX</th>\n",
       "      <th>BuildingY</th>\n",
       "      <th>DoorID</th>\n",
       "      <th>DoorX</th>\n",
       "      <th>DoorY</th>\n",
       "      <th>geometry</th>\n",
       "    </tr>\n",
       "  </thead>\n",
       "  <tbody>\n",
       "    <tr>\n",
       "      <td>0</td>\n",
       "      <td>Sport Center</td>\n",
       "      <td>276.55</td>\n",
       "      <td>-56.71</td>\n",
       "      <td>SGM Door 1</td>\n",
       "      <td>267.732</td>\n",
       "      <td>-64.548</td>\n",
       "      <td>POINT (276.550 -56.710)</td>\n",
       "    </tr>\n",
       "    <tr>\n",
       "      <td>1</td>\n",
       "      <td>FMAN</td>\n",
       "      <td>-87.30</td>\n",
       "      <td>-42.50</td>\n",
       "      <td>FMAN Door 1</td>\n",
       "      <td>-128.022</td>\n",
       "      <td>-85.397</td>\n",
       "      <td>POINT (-87.300 -42.500)</td>\n",
       "    </tr>\n",
       "    <tr>\n",
       "      <td>2</td>\n",
       "      <td>FMAN</td>\n",
       "      <td>-87.30</td>\n",
       "      <td>-42.50</td>\n",
       "      <td>FMAN Door 2</td>\n",
       "      <td>-153.030</td>\n",
       "      <td>-14.869</td>\n",
       "      <td>POINT (-87.300 -42.500)</td>\n",
       "    </tr>\n",
       "    <tr>\n",
       "      <td>3</td>\n",
       "      <td>FMAN</td>\n",
       "      <td>-87.30</td>\n",
       "      <td>-42.50</td>\n",
       "      <td>FMAN Door 3</td>\n",
       "      <td>-40.920</td>\n",
       "      <td>-10.438</td>\n",
       "      <td>POINT (-87.300 -42.500)</td>\n",
       "    </tr>\n",
       "    <tr>\n",
       "      <td>4</td>\n",
       "      <td>FMAN</td>\n",
       "      <td>-87.30</td>\n",
       "      <td>-42.50</td>\n",
       "      <td>FMAN Door 4</td>\n",
       "      <td>-35.755</td>\n",
       "      <td>-26.845</td>\n",
       "      <td>POINT (-87.300 -42.500)</td>\n",
       "    </tr>\n",
       "  </tbody>\n",
       "</table>\n",
       "</div>"
      ],
      "text/plain": [
       "     BuildingID   BuildingX   BuildingY       DoorID    DoorX   DoorY  \\\n",
       "0  Sport Center      276.55      -56.71   SGM Door 1  267.732 -64.548   \n",
       "1          FMAN      -87.30      -42.50  FMAN Door 1 -128.022 -85.397   \n",
       "2          FMAN      -87.30      -42.50  FMAN Door 2 -153.030 -14.869   \n",
       "3          FMAN      -87.30      -42.50  FMAN Door 3  -40.920 -10.438   \n",
       "4          FMAN      -87.30      -42.50  FMAN Door 4  -35.755 -26.845   \n",
       "\n",
       "                  geometry  \n",
       "0  POINT (276.550 -56.710)  \n",
       "1  POINT (-87.300 -42.500)  \n",
       "2  POINT (-87.300 -42.500)  \n",
       "3  POINT (-87.300 -42.500)  \n",
       "4  POINT (-87.300 -42.500)  "
      ]
     },
     "execution_count": 39,
     "metadata": {},
     "output_type": "execute_result"
    }
   ],
   "source": [
    "geo_df=gpd.GeoDataFrame(building_df, geometry=geometry)\n",
    "geo_df.head()"
   ]
  },
  {
   "cell_type": "code",
   "execution_count": 40,
   "metadata": {
    "colab": {
     "base_uri": "https://localhost:8080/",
     "height": 319
    },
    "id": "6i8eVy4fL-PG",
    "outputId": "c8dd9056-518d-4133-a679-d9d6d8e22acf"
   },
   "outputs": [
    {
     "name": "stdout",
     "output_type": "stream",
     "text": [
      "[<shapely.geometry.point.Point object at 0x7fd9439373d0>, <shapely.geometry.point.Point object at 0x7fd943937050>, <shapely.geometry.point.Point object at 0x7fd94536bfd0>, <shapely.geometry.point.Point object at 0x7fd9452bc4d0>, <shapely.geometry.point.Point object at 0x7fd957405750>, <shapely.geometry.point.Point object at 0x7fd94536bb50>, <shapely.geometry.point.Point object at 0x7fd958b19a10>, <shapely.geometry.point.Point object at 0x7fd94536b9d0>, <shapely.geometry.point.Point object at 0x7fd94536b110>, <shapely.geometry.point.Point object at 0x7fd94536b950>, <shapely.geometry.point.Point object at 0x7fd943937e90>, <shapely.geometry.point.Point object at 0x7fd943937850>, <shapely.geometry.point.Point object at 0x7fd943937b50>, <shapely.geometry.point.Point object at 0x7fd943937e10>, <shapely.geometry.point.Point object at 0x7fd943937790>, <shapely.geometry.point.Point object at 0x7fd943937e50>, <shapely.geometry.point.Point object at 0x7fd943937150>, <shapely.geometry.point.Point object at 0x7fd943937cd0>, <shapely.geometry.point.Point object at 0x7fd9439376d0>, <shapely.geometry.point.Point object at 0x7fd943937d10>, <shapely.geometry.point.Point object at 0x7fd943937890>, <shapely.geometry.point.Point object at 0x7fd943937d50>, <shapely.geometry.point.Point object at 0x7fd943937750>, <shapely.geometry.point.Point object at 0x7fd943937d90>, <shapely.geometry.point.Point object at 0x7fd943937490>, <shapely.geometry.point.Point object at 0x7fd9439370d0>, <shapely.geometry.point.Point object at 0x7fd943937a90>, <shapely.geometry.point.Point object at 0x7fd943937810>, <shapely.geometry.point.Point object at 0x7fd9439372d0>, <shapely.geometry.point.Point object at 0x7fd943937c50>, <shapely.geometry.point.Point object at 0x7fd943937350>, <shapely.geometry.point.Point object at 0x7fd943937110>]\n"
     ]
    },
    {
     "data": {
      "text/plain": [
       "<matplotlib.axes._subplots.AxesSubplot at 0x7fd94392e450>"
      ]
     },
     "execution_count": 40,
     "metadata": {},
     "output_type": "execute_result"
    },
    {
     "data": {
      "image/png": "[encoded data removed]",
      "text/plain": [
       "<Figure size 432x288 with 1 Axes>"
      ]
     },
     "metadata": {
      "needs_background": "light"
     },
     "output_type": "display_data"
    }
   ],
   "source": [
    "print (geometry)\n",
    "geo_df.plot()\n"
   ]
  },
  {
   "cell_type": "code",
   "execution_count": 41,
   "metadata": {
    "id": "IHv_962ScXMf"
   },
   "outputs": [],
   "source": [
    "def heatmap(d, bins=(100,100), smoothing=1.3, cmap='jet'):\n",
    "    def getx(pt):\n",
    "        return pt.coords[0][0]\n",
    "\n",
    "    def gety(pt):\n",
    "        return pt.coords[0][1]\n",
    "\n",
    "    x = list(d.geometry.apply(getx))\n",
    "    y = list(d.geometry.apply(gety))\n",
    "    heatmap, xedges, yedges = np.histogram2d(y, x, bins=bins)\n",
    "    extent = [yedges[0], yedges[-1], xedges[-1], xedges[0]]\n",
    "\n",
    "    logheatmap = np.log(heatmap)\n",
    "    logheatmap[np.isneginf(logheatmap)] = 0\n",
    "    logheatmap = ndimage.filters.gaussian_filter(logheatmap, smoothing, mode='nearest')\n",
    "    \n",
    "    plt.imshow(logheatmap, cmap=cmap, extent=extent)\n",
    "    plt.colorbar()\n",
    "    plt.gca().invert_yaxis()\n",
    "    plt.show()"
   ]
  },
  {
   "cell_type": "code",
   "execution_count": 42,
   "metadata": {
    "colab": {
     "base_uri": "https://localhost:8080/",
     "height": 299
    },
    "id": "AxR3RrmPcaYd",
    "outputId": "0fd8ec92-f0f7-42a2-8de8-e641fe7b9aa1"
   },
   "outputs": [
    {
     "name": "stderr",
     "output_type": "stream",
     "text": [
      "/Users/eylulsahin/opt/anaconda3/lib/python3.7/site-packages/ipykernel_launcher.py:13: RuntimeWarning: divide by zero encountered in log\n",
      "  del sys.path[0]\n"
     ]
    },
    {
     "data": {
      "image/png": "[encoded data removed]",
      "text/plain": [
       "<Figure size 432x288 with 2 Axes>"
      ]
     },
     "metadata": {
      "needs_background": "light"
     },
     "output_type": "display_data"
    }
   ],
   "source": [
    "heatmap(geo_df, bins=50, smoothing=1.5)"
   ]
  },
  {
   "cell_type": "code",
   "execution_count": 43,
   "metadata": {
    "colab": {
     "base_uri": "https://localhost:8080/"
    },
    "id": "oDtl-J_ffZM1",
    "outputId": "fd251c40-5994-4c0a-f90c-285e9b3fa230"
   },
   "outputs": [
    {
     "data": {
      "text/plain": [
       "[<shapely.geometry.point.Point at 0x7fd944d9e810>,\n",
       " <shapely.geometry.point.Point at 0x7fd944d9ee90>,\n",
       " <shapely.geometry.point.Point at 0x7fd944d9e550>]"
      ]
     },
     "execution_count": 43,
     "metadata": {},
     "output_type": "execute_result"
    }
   ],
   "source": [
    "geometry2=[Point(xy)for xy in zip(agent_df[\" AgentX\"],agent_df[\" AgentY\"])]\n",
    "geometry2[:3]"
   ]
  },
  {
   "cell_type": "code",
   "execution_count": 44,
   "metadata": {
    "colab": {
     "base_uri": "https://localhost:8080/",
     "height": 204
    },
    "id": "M1V4jAXrfhE_",
    "outputId": "3d43c65c-3729-4973-9784-7d75ae73ab24"
   },
   "outputs": [
    {
     "data": {
      "text/html": [
       "<div>\n",
       "<style scoped>\n",
       "    .dataframe tbody tr th:only-of-type {\n",
       "        vertical-align: middle;\n",
       "    }\n",
       "\n",
       "    .dataframe tbody tr th {\n",
       "        vertical-align: top;\n",
       "    }\n",
       "\n",
       "    .dataframe thead th {\n",
       "        text-align: right;\n",
       "    }\n",
       "</style>\n",
       "<table border=\"1\" class=\"dataframe\">\n",
       "  <thead>\n",
       "    <tr style=\"text-align: right;\">\n",
       "      <th></th>\n",
       "      <th>AgentID</th>\n",
       "      <th>AgentX</th>\n",
       "      <th>AgentY</th>\n",
       "      <th>TimeInSeconds</th>\n",
       "      <th>geometry</th>\n",
       "    </tr>\n",
       "  </thead>\n",
       "  <tbody>\n",
       "    <tr>\n",
       "      <td>0</td>\n",
       "      <td>39670</td>\n",
       "      <td>-171.891</td>\n",
       "      <td>-19.879</td>\n",
       "      <td>28903.5</td>\n",
       "      <td>POINT (-171.891 -19.879)</td>\n",
       "    </tr>\n",
       "    <tr>\n",
       "      <td>1</td>\n",
       "      <td>39670</td>\n",
       "      <td>-163.132</td>\n",
       "      <td>-17.741</td>\n",
       "      <td>28904.9</td>\n",
       "      <td>POINT (-163.132 -17.741)</td>\n",
       "    </tr>\n",
       "    <tr>\n",
       "      <td>2</td>\n",
       "      <td>39670</td>\n",
       "      <td>-156.743</td>\n",
       "      <td>-16.181</td>\n",
       "      <td>28906.0</td>\n",
       "      <td>POINT (-156.743 -16.181)</td>\n",
       "    </tr>\n",
       "    <tr>\n",
       "      <td>3</td>\n",
       "      <td>39670</td>\n",
       "      <td>-156.743</td>\n",
       "      <td>-16.181</td>\n",
       "      <td>28907.2</td>\n",
       "      <td>POINT (-156.743 -16.181)</td>\n",
       "    </tr>\n",
       "    <tr>\n",
       "      <td>4</td>\n",
       "      <td>44563</td>\n",
       "      <td>-181.220</td>\n",
       "      <td>-4.682</td>\n",
       "      <td>28938.0</td>\n",
       "      <td>POINT (-181.220 -4.682)</td>\n",
       "    </tr>\n",
       "  </tbody>\n",
       "</table>\n",
       "</div>"
      ],
      "text/plain": [
       "   AgentID   AgentX   AgentY   TimeInSeconds                  geometry\n",
       "0    39670 -171.891  -19.879         28903.5  POINT (-171.891 -19.879)\n",
       "1    39670 -163.132  -17.741         28904.9  POINT (-163.132 -17.741)\n",
       "2    39670 -156.743  -16.181         28906.0  POINT (-156.743 -16.181)\n",
       "3    39670 -156.743  -16.181         28907.2  POINT (-156.743 -16.181)\n",
       "4    44563 -181.220   -4.682         28938.0   POINT (-181.220 -4.682)"
      ]
     },
     "execution_count": 44,
     "metadata": {},
     "output_type": "execute_result"
    }
   ],
   "source": [
    "geo_df2=gpd.GeoDataFrame(agent_df, geometry=geometry2)\n",
    "geo_df2.head()"
   ]
  },
  {
   "cell_type": "code",
   "execution_count": 45,
   "metadata": {
    "colab": {
     "base_uri": "https://localhost:8080/",
     "height": 452
    },
    "id": "uotQHCCFfkKr",
    "outputId": "35b1fcc3-00eb-4720-fdc6-bf0282254f3d",
    "scrolled": true
   },
   "outputs": [
    {
     "name": "stderr",
     "output_type": "stream",
     "text": [
      "IOPub data rate exceeded.\n",
      "The notebook server will temporarily stop sending output\n",
      "to the client in order to avoid crashing it.\n",
      "To change this limit, set the config variable\n",
      "`--NotebookApp.iopub_data_rate_limit`.\n",
      "\n",
      "Current values:\n",
      "NotebookApp.iopub_data_rate_limit=1000000.0 (bytes/sec)\n",
      "NotebookApp.rate_limit_window=3.0 (secs)\n",
      "\n"
     ]
    },
    {
     "data": {
      "text/plain": [
       "<matplotlib.axes._subplots.AxesSubplot at 0x7fd944d8b510>"
      ]
     },
     "execution_count": 45,
     "metadata": {},
     "output_type": "execute_result"
    },
    {
     "data": {
      "image/png": "[encoded data removed]",
      "text/plain": [
       "<Figure size 432x288 with 1 Axes>"
      ]
     },
     "metadata": {
      "needs_background": "light"
     },
     "output_type": "display_data"
    }
   ],
   "source": [
    "print (geometry2)\n",
    "geo_df2.plot()"
   ]
  },
  {
   "cell_type": "code",
   "execution_count": 46,
   "metadata": {
    "colab": {
     "base_uri": "https://localhost:8080/",
     "height": 299
    },
    "id": "duUUk835fn4q",
    "outputId": "29ac751c-d8aa-4b50-d599-7cccd3960ae0"
   },
   "outputs": [
    {
     "name": "stderr",
     "output_type": "stream",
     "text": [
      "/Users/eylulsahin/opt/anaconda3/lib/python3.7/site-packages/ipykernel_launcher.py:13: RuntimeWarning: divide by zero encountered in log\n",
      "  del sys.path[0]\n"
     ]
    },
    {
     "data": {
      "image/png": "[encoded data removed]",
      "text/plain": [
       "<Figure size 432x288 with 2 Axes>"
      ]
     },
     "metadata": {
      "needs_background": "light"
     },
     "output_type": "display_data"
    }
   ],
   "source": [
    "heatmap(geo_df2, bins=50, smoothing=1.5)"
   ]
  },
  {
   "cell_type": "code",
   "execution_count": 47,
   "metadata": {
    "colab": {
     "base_uri": "https://localhost:8080/"
    },
    "id": "_2GA_a7noytG",
    "outputId": "5967d956-e185-436b-cf86-a543117b42d0"
   },
   "outputs": [
    {
     "data": {
      "text/plain": [
       "0         28903.5\n",
       "1         28904.9\n",
       "2         28906.0\n",
       "3         28907.2\n",
       "4         28938.0\n",
       "           ...   \n",
       "414705    84725.7\n",
       "414706    84726.5\n",
       "414707    84727.5\n",
       "414708    84728.3\n",
       "414709    84729.3\n",
       "Name:  TimeInSeconds, Length: 414710, dtype: float64"
      ]
     },
     "execution_count": 47,
     "metadata": {},
     "output_type": "execute_result"
    }
   ],
   "source": [
    "agent_df[\" TimeInSeconds\"]\n",
    "\n"
   ]
  },
  {
   "cell_type": "code",
   "execution_count": 48,
   "metadata": {
    "colab": {
     "base_uri": "https://localhost:8080/"
    },
    "id": "V3B_Ci9ppsmz",
    "outputId": "3a157577-9816-4039-c3ac-29f2d62e0e0f"
   },
   "outputs": [
    {
     "name": "stdout",
     "output_type": "stream",
     "text": [
      "0         Morning\n",
      "1         Morning\n",
      "2         Morning\n",
      "3         Morning\n",
      "4         Morning\n",
      "           ...   \n",
      "414705      Night\n",
      "414706      Night\n",
      "414707      Night\n",
      "414708      Night\n",
      "414709      Night\n",
      "Name: TimeOfDay, Length: 414710, dtype: object 0         28903.5\n",
      "1         28904.9\n",
      "2         28906.0\n",
      "3         28907.2\n",
      "4         28938.0\n",
      "           ...   \n",
      "414705    84725.7\n",
      "414706    84726.5\n",
      "414707    84727.5\n",
      "414708    84728.3\n",
      "414709    84729.3\n",
      "Name:  TimeInSeconds, Length: 414710, dtype: float64\n"
     ]
    }
   ],
   "source": [
    "def time_categorizer(time):\n",
    "  if time < 43200:  #time until noon 12pm\n",
    "        return \"Morning\"\n",
    "  elif 43200 <= time < 61200:    #time between 12pm-5pm \n",
    "      return \"Afternoon\"\n",
    "  elif 61200 <= time < 75600:   #time between 5-9pm Evening\n",
    "      return \"Evening\"\n",
    "  else:\n",
    "      return \"Night\"\n",
    "\n",
    "\n",
    "\n",
    "agent_df[\"TimeOfDay\"] = agent_df[\" TimeInSeconds\"].apply(time_categorizer)\n",
    "#agent_df[\"TimeOfDay\"].count().plot(kind=\"hist\", bins=8, rwidth=0.8) #also can plot histogram\n",
    "print(agent_df[\"TimeOfDay\"] , agent_df[\" TimeInSeconds\"])"
   ]
  },
  {
   "cell_type": "code",
   "execution_count": 49,
   "metadata": {
    "colab": {
     "base_uri": "https://localhost:8080/",
     "height": 419
    },
    "id": "LehKipNqq3cr",
    "outputId": "0637388f-2c30-48e6-ee6e-32b7ae1490f6"
   },
   "outputs": [
    {
     "data": {
      "text/html": [
       "<div>\n",
       "<style scoped>\n",
       "    .dataframe tbody tr th:only-of-type {\n",
       "        vertical-align: middle;\n",
       "    }\n",
       "\n",
       "    .dataframe tbody tr th {\n",
       "        vertical-align: top;\n",
       "    }\n",
       "\n",
       "    .dataframe thead th {\n",
       "        text-align: right;\n",
       "    }\n",
       "</style>\n",
       "<table border=\"1\" class=\"dataframe\">\n",
       "  <thead>\n",
       "    <tr style=\"text-align: right;\">\n",
       "      <th></th>\n",
       "      <th>AgentID</th>\n",
       "      <th>AgentX</th>\n",
       "      <th>AgentY</th>\n",
       "      <th>TimeInSeconds</th>\n",
       "      <th>geometry</th>\n",
       "      <th>TimeOfDay</th>\n",
       "    </tr>\n",
       "  </thead>\n",
       "  <tbody>\n",
       "    <tr>\n",
       "      <td>0</td>\n",
       "      <td>39670</td>\n",
       "      <td>-171.891</td>\n",
       "      <td>-19.879</td>\n",
       "      <td>28903.5</td>\n",
       "      <td>POINT (-171.891 -19.879)</td>\n",
       "      <td>Morning</td>\n",
       "    </tr>\n",
       "    <tr>\n",
       "      <td>1</td>\n",
       "      <td>39670</td>\n",
       "      <td>-163.132</td>\n",
       "      <td>-17.741</td>\n",
       "      <td>28904.9</td>\n",
       "      <td>POINT (-163.132 -17.741)</td>\n",
       "      <td>Morning</td>\n",
       "    </tr>\n",
       "    <tr>\n",
       "      <td>2</td>\n",
       "      <td>39670</td>\n",
       "      <td>-156.743</td>\n",
       "      <td>-16.181</td>\n",
       "      <td>28906.0</td>\n",
       "      <td>POINT (-156.743 -16.181)</td>\n",
       "      <td>Morning</td>\n",
       "    </tr>\n",
       "    <tr>\n",
       "      <td>3</td>\n",
       "      <td>39670</td>\n",
       "      <td>-156.743</td>\n",
       "      <td>-16.181</td>\n",
       "      <td>28907.2</td>\n",
       "      <td>POINT (-156.743 -16.181)</td>\n",
       "      <td>Morning</td>\n",
       "    </tr>\n",
       "    <tr>\n",
       "      <td>4</td>\n",
       "      <td>44563</td>\n",
       "      <td>-181.220</td>\n",
       "      <td>-4.682</td>\n",
       "      <td>28938.0</td>\n",
       "      <td>POINT (-181.220 -4.682)</td>\n",
       "      <td>Morning</td>\n",
       "    </tr>\n",
       "    <tr>\n",
       "      <td>...</td>\n",
       "      <td>...</td>\n",
       "      <td>...</td>\n",
       "      <td>...</td>\n",
       "      <td>...</td>\n",
       "      <td>...</td>\n",
       "      <td>...</td>\n",
       "    </tr>\n",
       "    <tr>\n",
       "      <td>99995</td>\n",
       "      <td>16810</td>\n",
       "      <td>-213.860</td>\n",
       "      <td>-181.591</td>\n",
       "      <td>44200.4</td>\n",
       "      <td>POINT (-213.860 -181.591)</td>\n",
       "      <td>Afternoon</td>\n",
       "    </tr>\n",
       "    <tr>\n",
       "      <td>99996</td>\n",
       "      <td>22691</td>\n",
       "      <td>-203.025</td>\n",
       "      <td>139.008</td>\n",
       "      <td>44201.7</td>\n",
       "      <td>POINT (-203.025 139.008)</td>\n",
       "      <td>Afternoon</td>\n",
       "    </tr>\n",
       "    <tr>\n",
       "      <td>99997</td>\n",
       "      <td>44783</td>\n",
       "      <td>-37.087</td>\n",
       "      <td>115.767</td>\n",
       "      <td>44201.7</td>\n",
       "      <td>POINT (-37.087 115.767)</td>\n",
       "      <td>Afternoon</td>\n",
       "    </tr>\n",
       "    <tr>\n",
       "      <td>99998</td>\n",
       "      <td>27907</td>\n",
       "      <td>-183.469</td>\n",
       "      <td>-11.936</td>\n",
       "      <td>44201.7</td>\n",
       "      <td>POINT (-183.469 -11.936)</td>\n",
       "      <td>Afternoon</td>\n",
       "    </tr>\n",
       "    <tr>\n",
       "      <td>99999</td>\n",
       "      <td>36162</td>\n",
       "      <td>-241.385</td>\n",
       "      <td>205.951</td>\n",
       "      <td>44201.7</td>\n",
       "      <td>POINT (-241.385 205.951)</td>\n",
       "      <td>Afternoon</td>\n",
       "    </tr>\n",
       "  </tbody>\n",
       "</table>\n",
       "<p>100000 rows × 6 columns</p>\n",
       "</div>"
      ],
      "text/plain": [
       "       AgentID   AgentX   AgentY   TimeInSeconds                   geometry  \\\n",
       "0        39670 -171.891  -19.879         28903.5   POINT (-171.891 -19.879)   \n",
       "1        39670 -163.132  -17.741         28904.9   POINT (-163.132 -17.741)   \n",
       "2        39670 -156.743  -16.181         28906.0   POINT (-156.743 -16.181)   \n",
       "3        39670 -156.743  -16.181         28907.2   POINT (-156.743 -16.181)   \n",
       "4        44563 -181.220   -4.682         28938.0    POINT (-181.220 -4.682)   \n",
       "...        ...      ...      ...             ...                        ...   \n",
       "99995    16810 -213.860 -181.591         44200.4  POINT (-213.860 -181.591)   \n",
       "99996    22691 -203.025  139.008         44201.7   POINT (-203.025 139.008)   \n",
       "99997    44783  -37.087  115.767         44201.7    POINT (-37.087 115.767)   \n",
       "99998    27907 -183.469  -11.936         44201.7   POINT (-183.469 -11.936)   \n",
       "99999    36162 -241.385  205.951         44201.7   POINT (-241.385 205.951)   \n",
       "\n",
       "       TimeOfDay  \n",
       "0        Morning  \n",
       "1        Morning  \n",
       "2        Morning  \n",
       "3        Morning  \n",
       "4        Morning  \n",
       "...          ...  \n",
       "99995  Afternoon  \n",
       "99996  Afternoon  \n",
       "99997  Afternoon  \n",
       "99998  Afternoon  \n",
       "99999  Afternoon  \n",
       "\n",
       "[100000 rows x 6 columns]"
      ]
     },
     "execution_count": 49,
     "metadata": {},
     "output_type": "execute_result"
    }
   ],
   "source": [
    "agent_df.head(100000)"
   ]
  },
  {
   "cell_type": "code",
   "execution_count": 50,
   "metadata": {
    "colab": {
     "background_save": true,
     "base_uri": "https://localhost:8080/",
     "height": 807
    },
    "id": "jRez_pp6sup7",
    "outputId": "a6204767-dfa3-420d-bd1c-18cb9f64fc56"
   },
   "outputs": [
    {
     "ename": "ModuleNotFoundError",
     "evalue": "No module named 'folium'",
     "output_type": "error",
     "traceback": [
      "\u001b[0;31m---------------------------------------------------------------------------\u001b[0m",
      "\u001b[0;31mModuleNotFoundError\u001b[0m                       Traceback (most recent call last)",
      "\u001b[0;32m<ipython-input-50-4ebe2b63fab8>\u001b[0m in \u001b[0;36m<module>\u001b[0;34m\u001b[0m\n\u001b[0;32m----> 1\u001b[0;31m \u001b[0;32mimport\u001b[0m \u001b[0mfolium\u001b[0m\u001b[0;34m\u001b[0m\u001b[0;34m\u001b[0m\u001b[0m\n\u001b[0m\u001b[1;32m      2\u001b[0m \u001b[0;32mfrom\u001b[0m \u001b[0mfolium\u001b[0m\u001b[0;34m.\u001b[0m\u001b[0mplugins\u001b[0m \u001b[0;32mimport\u001b[0m \u001b[0mHeatMap\u001b[0m\u001b[0;34m\u001b[0m\u001b[0;34m\u001b[0m\u001b[0m\n\u001b[1;32m      3\u001b[0m \u001b[0;34m\u001b[0m\u001b[0m\n\u001b[1;32m      4\u001b[0m \u001b[0mlocation\u001b[0m \u001b[0;34m=\u001b[0m \u001b[0magent_df\u001b[0m\u001b[0;34m[\u001b[0m\u001b[0;34m[\u001b[0m\u001b[0;34m\" AgentX\"\u001b[0m\u001b[0;34m,\u001b[0m \u001b[0;34m\" AgentY\"\u001b[0m\u001b[0;34m]\u001b[0m\u001b[0;34m]\u001b[0m\u001b[0;34m.\u001b[0m\u001b[0mdropna\u001b[0m\u001b[0;34m(\u001b[0m\u001b[0mhow\u001b[0m\u001b[0;34m=\u001b[0m\u001b[0;34m\"any\"\u001b[0m\u001b[0;34m)\u001b[0m\u001b[0;34m.\u001b[0m\u001b[0mvalues\u001b[0m\u001b[0;34m\u001b[0m\u001b[0;34m\u001b[0m\u001b[0m\n\u001b[1;32m      5\u001b[0m \u001b[0;34m\u001b[0m\u001b[0m\n",
      "\u001b[0;31mModuleNotFoundError\u001b[0m: No module named 'folium'"
     ]
    }
   ],
   "source": [
    "import folium\n",
    "from folium.plugins import HeatMap\n",
    "\n",
    "location = agent_df[[\" AgentX\", \" AgentY\"]].dropna(how=\"any\").values\n",
    "\n",
    "map1= folium.Map()\n",
    "HeatMap(location).add_to(map1)\n",
    "map1"
   ]
  },
  {
   "cell_type": "code",
   "execution_count": null,
   "metadata": {
    "id": "YynjtX7vuu7x"
   },
   "outputs": [],
   "source": [
    "from folium.plugins import HeatMapWithTime\n",
    "\n",
    "location2 = agent_df[[\" AgentX\", \" AgentY\"]].dropna(how=\"any\").values\n",
    "\n",
    "map2= folium.Map()\n",
    "HeatMapWithTime(location,).add_to(map2)\n",
    "map1"
   ]
  }
 ],
 "metadata": {
  "colab": {
   "collapsed_sections": [],
   "name": "agent_new.ipynb",
   "provenance": []
  },
  "kernelspec": {
   "display_name": "Python 3",
   "language": "python",
   "name": "python3"
  },
  "language_info": {
   "codemirror_mode": {
    "name": "ipython",
    "version": 3
   },
   "file_extension": ".py",
   "mimetype": "text/x-python",
   "name": "python",
   "nbconvert_exporter": "python",
   "pygments_lexer": "ipython3",
   "version": "3.7.4"
  }
 },
 "nbformat": 4,
 "nbformat_minor": 1
}
